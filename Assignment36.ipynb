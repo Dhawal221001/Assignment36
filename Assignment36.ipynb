{
 "cells": [
  {
   "cell_type": "markdown",
   "id": "40720923-a469-4199-89b8-cd3b6a72e0fb",
   "metadata": {},
   "source": [
    " ## Q1. Write a Python function that takes in two arrays of data and calculates the F-value for a variance ratio test. The function should return the F-value and the corresponding p-value for the test."
   ]
  },
  {
   "cell_type": "code",
   "execution_count": 2,
   "id": "c4baaa36-deca-4339-ad60-576a8f6b4db6",
   "metadata": {},
   "outputs": [],
   "source": [
    "import numpy as np\n",
    "import scipy.stats as stat"
   ]
  },
  {
   "cell_type": "code",
   "execution_count": 6,
   "id": "d2fd7c70-283b-4b9d-a210-86a58027a824",
   "metadata": {},
   "outputs": [],
   "source": [
    "def f_test(A,B):\n",
    "    f_test=np.var(A)/np.var(B)\n",
    "    print(\"The F value is \", f_test)\n",
    "    df1=len(A)-1\n",
    "    df2=len(B)-1\n",
    "    significance_value=0.05\n",
    "    p_value=1-stat.f.cdf(q=1-significance_value,dfn=df1,dfd=df2)\n",
    "    print(\"The p_value is \", p_value)"
   ]
  },
  {
   "cell_type": "markdown",
   "id": "72d1435f-d5a0-439e-a8c8-696f95242c1b",
   "metadata": {},
   "source": [
    "## Q2. Given a significance level of 0.05 and the degrees of freedom for the numerator and denominator of an F-distribution, write a Python function that returns the critical F-value for a two-tailed test."
   ]
  },
  {
   "cell_type": "code",
   "execution_count": null,
   "id": "1bbbf875-304a-46ce-98c9-51a43a59d663",
   "metadata": {},
   "outputs": [],
   "source": [
    "critical_value=stat.f.ppf(q=1-significance_value,dfn=df1,dfd=df2)"
   ]
  },
  {
   "cell_type": "markdown",
   "id": "98465f35-2a59-4a99-85af-cdee91fd7197",
   "metadata": {},
   "source": [
    "## Q3. Write a Python program that generates random samples from two normal distributions with known variances and uses an F-test to determine if the variances are equal. The program should output the F- value, degrees of freedom, and p-value for the test."
   ]
  },
  {
   "cell_type": "code",
   "execution_count": 8,
   "id": "2a9fc4b8-6537-49d9-9ff9-213cb238ee29",
   "metadata": {},
   "outputs": [],
   "source": [
    "def f_test():\n",
    "    A=np.random.normal()\n",
    "    B=np.random.normal()\n",
    "    f_test=np.var(A)/np.var(B)\n",
    "    if f_test==1:\n",
    "        print(\"The variances are equal\")\n",
    "    else:\n",
    "        print(\"The vriances are not equal\")\n",
    "    df1=len(A)-1\n",
    "    df2=len(B)-1\n",
    "    p_value=1-stat.f.cdf(q=1-significance_value,dfn=df1,dfd=df2)\n",
    "    print(\"the F value is \", f_test)\n",
    "    print(\"the degree of freedoms are \", df1,df2)\n",
    "    print(\"the p_value is \",p_value)"
   ]
  },
  {
   "cell_type": "markdown",
   "id": "102c6b6d-f7b8-426e-bb68-737301c6bc9a",
   "metadata": {},
   "source": [
    "## Q4.The variances of two populations are known to be 10 and 15. A sample of 12 observations is taken from each population. Conduct an F-test at the 5% significance level to determine if the variances are significantly different."
   ]
  },
  {
   "cell_type": "code",
   "execution_count": 9,
   "id": "b4ab5df3-9877-4c40-9bf7-8ab7ee990fa0",
   "metadata": {},
   "outputs": [],
   "source": [
    "A=np.random.normal(size=12,scale=10)\n",
    "B=np.random.normal(size=12,scale=15)\n",
    "f_test=np.var(A)/np.var(B)"
   ]
  },
  {
   "cell_type": "code",
   "execution_count": 16,
   "id": "a63e1fa0-13e4-498c-88dd-6de6dfeec6a2",
   "metadata": {},
   "outputs": [
    {
     "data": {
      "text/plain": [
       "array([  3.27152414,  -7.29713867,  10.8622652 ,  -5.48006819,\n",
       "        10.0631506 , -12.42005901,  17.54424579,  -6.02202628,\n",
       "       -30.36710792,  -3.23977038, -16.92957595,   9.36473984])"
      ]
     },
     "execution_count": 16,
     "metadata": {},
     "output_type": "execute_result"
    }
   ],
   "source": [
    "A"
   ]
  },
  {
   "cell_type": "code",
   "execution_count": 17,
   "id": "f3af1c93-475a-4335-97a6-8212259a2b03",
   "metadata": {},
   "outputs": [
    {
     "data": {
      "text/plain": [
       "array([-17.66108162,   1.0354172 ,  -3.57820203,  -3.0207265 ,\n",
       "       -22.88425937,  33.13727575, -15.42432026, -15.80879631,\n",
       "        13.19885716,  -2.42532883,   7.74564521,  21.64229093])"
      ]
     },
     "execution_count": 17,
     "metadata": {},
     "output_type": "execute_result"
    }
   ],
   "source": [
    "B"
   ]
  },
  {
   "cell_type": "code",
   "execution_count": 18,
   "id": "8ead6251-aa96-468c-8258-7505a87b78ad",
   "metadata": {},
   "outputs": [
    {
     "data": {
      "text/plain": [
       "0.6473625567113966"
      ]
     },
     "execution_count": 18,
     "metadata": {},
     "output_type": "execute_result"
    }
   ],
   "source": [
    "f_test"
   ]
  },
  {
   "cell_type": "code",
   "execution_count": 11,
   "id": "7a7af5b0-0116-40a4-9eaf-5efa1cb64db2",
   "metadata": {},
   "outputs": [],
   "source": [
    "df1=len(A)-1\n",
    "df2=len(B)-1\n",
    "significance_value=0.05"
   ]
  },
  {
   "cell_type": "code",
   "execution_count": 12,
   "id": "fd9592c0-017e-4071-a13d-c5bd0f1dbe33",
   "metadata": {},
   "outputs": [],
   "source": [
    "critical_value=stat.f.ppf(q=1-significance_value,dfn=df1,dfd=df2)"
   ]
  },
  {
   "cell_type": "code",
   "execution_count": 13,
   "id": "f8328669-3959-4c34-a8af-578408fc636c",
   "metadata": {},
   "outputs": [
    {
     "data": {
      "text/plain": [
       "2.8179304699530863"
      ]
     },
     "execution_count": 13,
     "metadata": {},
     "output_type": "execute_result"
    }
   ],
   "source": [
    "critical_value"
   ]
  },
  {
   "cell_type": "code",
   "execution_count": 65,
   "id": "82e04787-76d7-4522-95ce-099a614ee57e",
   "metadata": {},
   "outputs": [
    {
     "name": "stdout",
     "output_type": "stream",
     "text": [
      "we reject the null hypothesis\n"
     ]
    }
   ],
   "source": [
    "if f_test < critical_value:\n",
    "    print(\"we reject the null hypothesis\")\n",
    "else:\n",
    "    print(\"we fail to reject the null hypothesis\")"
   ]
  },
  {
   "cell_type": "markdown",
   "id": "176c4536-dee2-455c-93f4-69c852f9c504",
   "metadata": {},
   "source": [
    "## Q5. A manufacturer claims that the variance of the diameter of a certain product is 0.005. A sample of 25 products is taken, and the sample variance is found to be 0.006. Conduct an F-test at the 1% significance level to determine if the claim is justified."
   ]
  },
  {
   "cell_type": "code",
   "execution_count": 21,
   "id": "9a7c4afb-e882-4e10-bbe8-751155c64ce0",
   "metadata": {},
   "outputs": [],
   "source": [
    "s1=0.005\n",
    "s2=0.006\n",
    "n2=25\n",
    "f_test=s1/s2"
   ]
  },
  {
   "cell_type": "code",
   "execution_count": 22,
   "id": "79b7fb4c-11d8-4a8f-93a1-3a45b1e1e025",
   "metadata": {},
   "outputs": [
    {
     "data": {
      "text/plain": [
       "0.8333333333333334"
      ]
     },
     "execution_count": 22,
     "metadata": {},
     "output_type": "execute_result"
    }
   ],
   "source": [
    "f_test"
   ]
  },
  {
   "cell_type": "code",
   "execution_count": 24,
   "id": "aa2bd255-e5e6-492e-9919-840785e0b45a",
   "metadata": {},
   "outputs": [],
   "source": [
    "df2=n2-1\n",
    "significance_value=0.01"
   ]
  },
  {
   "cell_type": "code",
   "execution_count": 36,
   "id": "9f2e6501-dc52-43ac-9a24-9c2e23284a2e",
   "metadata": {},
   "outputs": [],
   "source": [
    "critical_value=stat.f.ppf(q=1-significance_value,dfn=100000000,dfd=df2)"
   ]
  },
  {
   "cell_type": "code",
   "execution_count": 37,
   "id": "ab9cf020-4493-43a2-b7c5-113e3eeb337f",
   "metadata": {},
   "outputs": [
    {
     "data": {
      "text/plain": [
       "2.210685539862126"
      ]
     },
     "execution_count": 37,
     "metadata": {},
     "output_type": "execute_result"
    }
   ],
   "source": [
    "critical_value"
   ]
  },
  {
   "cell_type": "code",
   "execution_count": 64,
   "id": "606b8d4b-5470-4a72-b8d2-4c7ffbc12f35",
   "metadata": {},
   "outputs": [
    {
     "name": "stdout",
     "output_type": "stream",
     "text": [
      "we reject the null hypothesis\n"
     ]
    }
   ],
   "source": [
    "if f_test < critical_value:\n",
    "    print(\"we reject the null hypothesis\")\n",
    "else:\n",
    "    print(\"we fail to reject the null hypothesis\")"
   ]
  },
  {
   "cell_type": "markdown",
   "id": "b9a368b8-1d23-40e4-b16d-5d164e1f2154",
   "metadata": {},
   "source": [
    "## Q6. Write a Python function that takes in the degrees of freedom for the numerator and denominator of an F-distribution and calculates the mean and variance of the distribution. The function should return the mean and variance as a tuple."
   ]
  },
  {
   "cell_type": "code",
   "execution_count": 42,
   "id": "931ca448-f265-456f-9037-ff05ff400851",
   "metadata": {},
   "outputs": [],
   "source": [
    "def f_dist(d1,d2):\n",
    "    A=np.random.f(dfnum=d1,dfden=d2,size=25)\n",
    "    m=A.mean()\n",
    "    v=A.var()\n",
    "    return m,v"
   ]
  },
  {
   "cell_type": "code",
   "execution_count": 43,
   "id": "2310ac97-fec2-4b36-bebf-ec365150fb3e",
   "metadata": {},
   "outputs": [
    {
     "data": {
      "text/plain": [
       "(1.3799302042180057, 0.7625323964830641)"
      ]
     },
     "execution_count": 43,
     "metadata": {},
     "output_type": "execute_result"
    }
   ],
   "source": [
    "f_dist(12,12)"
   ]
  },
  {
   "cell_type": "markdown",
   "id": "98995380-8b49-4d80-bcc9-29753378a40c",
   "metadata": {},
   "source": [
    "## Q7. A random sample of 10 measurements is taken from a normal population with unknown variance. The sample variance is found to be 25. Another random sample of 15 measurements is taken from another normal population with unknown variance, and the sample variance is found to be 20. Conduct an F-test at the 10% significance level to determine if the variances are significantly different."
   ]
  },
  {
   "cell_type": "code",
   "execution_count": 49,
   "id": "8109439f-3441-4206-9849-3d648e995eea",
   "metadata": {},
   "outputs": [],
   "source": [
    "A=np.random.normal(size=10,scale=25)\n",
    "B=np.random.normal(size=15,scale=20)"
   ]
  },
  {
   "cell_type": "code",
   "execution_count": 50,
   "id": "bf16e981-01c8-4a13-9d49-ef63d8f8333c",
   "metadata": {},
   "outputs": [
    {
     "data": {
      "text/plain": [
       "1.3322410682617214"
      ]
     },
     "execution_count": 50,
     "metadata": {},
     "output_type": "execute_result"
    }
   ],
   "source": [
    "f_test=np.var(A)/np.var(B)\n",
    "f_test"
   ]
  },
  {
   "cell_type": "code",
   "execution_count": 51,
   "id": "0564dc62-6ae2-4109-b46c-33f94cae98a8",
   "metadata": {},
   "outputs": [],
   "source": [
    "df1=len(A)-1\n",
    "df2=len(B)-1\n",
    "significance_value=0.10"
   ]
  },
  {
   "cell_type": "code",
   "execution_count": 52,
   "id": "7d6f8d21-30e1-4790-8f47-8389188e024b",
   "metadata": {},
   "outputs": [],
   "source": [
    "critical_value=stat.f.ppf(q=1-significance_value,dfn=df1,dfd=df2)"
   ]
  },
  {
   "cell_type": "code",
   "execution_count": 53,
   "id": "cfc9cee6-5d12-4c39-b11c-67e8546b322f",
   "metadata": {},
   "outputs": [
    {
     "data": {
      "text/plain": [
       "2.121954566976902"
      ]
     },
     "execution_count": 53,
     "metadata": {},
     "output_type": "execute_result"
    }
   ],
   "source": [
    "critical_value"
   ]
  },
  {
   "cell_type": "code",
   "execution_count": 63,
   "id": "a891c014-42f4-408b-9c8f-22ca5ce258df",
   "metadata": {},
   "outputs": [
    {
     "name": "stdout",
     "output_type": "stream",
     "text": [
      "variances are similiar\n"
     ]
    }
   ],
   "source": [
    "if f_test < critical_value:\n",
    "    print(\"variances are similiar\")\n",
    "else:\n",
    "    print(\"variances are significantly different\")"
   ]
  },
  {
   "cell_type": "markdown",
   "id": "c3bf801b-bf73-4562-abc8-28e88fb19dfa",
   "metadata": {},
   "source": [
    "## Q8. The following data represent the waiting times in minutes at two different restaurants on a Saturday night: Restaurant A: 24, 25, 28, 23, 22, 20, 27; Restaurant B: 31, 33, 35, 30, 32, 36. Conduct an F-test at the 5% significance level to determine if the variances are significantly different."
   ]
  },
  {
   "cell_type": "code",
   "execution_count": 56,
   "id": "9afcf03c-a49f-41f3-b6c3-2e67c2c0ac22",
   "metadata": {},
   "outputs": [],
   "source": [
    "A=[24,25,28,23,22,20,27]\n",
    "B=[31,33,35,30,32,36]"
   ]
  },
  {
   "cell_type": "code",
   "execution_count": 57,
   "id": "47bd2078-f19e-49b1-9816-a4532505365e",
   "metadata": {},
   "outputs": [
    {
     "data": {
      "text/plain": [
       "1.496767651159843"
      ]
     },
     "execution_count": 57,
     "metadata": {},
     "output_type": "execute_result"
    }
   ],
   "source": [
    "f_test=np.var(A)/np.var(B)\n",
    "f_test"
   ]
  },
  {
   "cell_type": "code",
   "execution_count": 58,
   "id": "25d89cb2-086b-4ced-91af-7eb782566e3e",
   "metadata": {},
   "outputs": [],
   "source": [
    "df1=len(A)-1\n",
    "df2=len(B)-1\n",
    "significance_value=0.05"
   ]
  },
  {
   "cell_type": "code",
   "execution_count": 59,
   "id": "68686cee-5ccb-49ec-a776-6534b83d0113",
   "metadata": {},
   "outputs": [],
   "source": [
    "critical_value=stat.f.ppf(q=1-significance_value,dfn=df1,dfd=df2)"
   ]
  },
  {
   "cell_type": "code",
   "execution_count": 60,
   "id": "6c6f1423-3b93-4cf1-9051-27cabeb16978",
   "metadata": {},
   "outputs": [
    {
     "data": {
      "text/plain": [
       "4.950288068694318"
      ]
     },
     "execution_count": 60,
     "metadata": {},
     "output_type": "execute_result"
    }
   ],
   "source": [
    "critical_value"
   ]
  },
  {
   "cell_type": "code",
   "execution_count": 62,
   "id": "29ff69b9-1213-4f53-a97e-3c72f606c651",
   "metadata": {},
   "outputs": [
    {
     "name": "stdout",
     "output_type": "stream",
     "text": [
      "variances are similiar\n"
     ]
    }
   ],
   "source": [
    "if f_test < critical_value:\n",
    "    print(\"variances are similiar\")\n",
    "else:\n",
    "    print(\"variances are significantly different\")"
   ]
  },
  {
   "cell_type": "markdown",
   "id": "4b0b9967-cb96-4ee5-bab0-56873f1e1d82",
   "metadata": {},
   "source": [
    "## Q9. The following data represent the test scores of two groups of students: Group A: 80, 85, 90, 92, 87, 83; Group B: 75, 78, 82, 79, 81, 84. Conduct an F-test at the 1% significance level to determine if the variances are significantly different."
   ]
  },
  {
   "cell_type": "code",
   "execution_count": 66,
   "id": "8fe9acef-4947-485d-abf5-ab02e94ef32a",
   "metadata": {},
   "outputs": [],
   "source": [
    "A=[80,85,90,92,87,83]\n",
    "B=[75,78,82,79,81,84]"
   ]
  },
  {
   "cell_type": "code",
   "execution_count": 67,
   "id": "5c5da076-5830-4431-96e0-2883072d5d04",
   "metadata": {},
   "outputs": [
    {
     "data": {
      "text/plain": [
       "1.9442622950819677"
      ]
     },
     "execution_count": 67,
     "metadata": {},
     "output_type": "execute_result"
    }
   ],
   "source": [
    "f_test=np.var(A)/np.var(B)\n",
    "f_test"
   ]
  },
  {
   "cell_type": "code",
   "execution_count": 69,
   "id": "8e0ddaf7-4761-444d-9de4-2a2f32dbc6a8",
   "metadata": {},
   "outputs": [],
   "source": [
    "df1=len(A)-1\n",
    "df2=len(B)-1\n",
    "significance_value=0.01"
   ]
  },
  {
   "cell_type": "code",
   "execution_count": 70,
   "id": "12834209-e125-4207-a221-9da37c662b16",
   "metadata": {},
   "outputs": [],
   "source": [
    "critical_value=stat.f.ppf(q=1-significance_value,dfn=df1,dfd=df2)"
   ]
  },
  {
   "cell_type": "code",
   "execution_count": 71,
   "id": "90b8ecbd-f25c-49ba-a6c8-77b90cda3a6a",
   "metadata": {},
   "outputs": [
    {
     "data": {
      "text/plain": [
       "10.967020650907992"
      ]
     },
     "execution_count": 71,
     "metadata": {},
     "output_type": "execute_result"
    }
   ],
   "source": [
    "critical_value"
   ]
  },
  {
   "cell_type": "code",
   "execution_count": 72,
   "id": "5a62db53-8ef3-4331-8de9-3b5bad3b4c66",
   "metadata": {},
   "outputs": [
    {
     "name": "stdout",
     "output_type": "stream",
     "text": [
      "variances are similiar\n"
     ]
    }
   ],
   "source": [
    "if f_test < critical_value:\n",
    "    print(\"variances are similiar\")\n",
    "else:\n",
    "    print(\"variances are significantly different\")"
   ]
  },
  {
   "cell_type": "code",
   "execution_count": null,
   "id": "8d5a3caf-2c35-4897-9a55-a62b04dc0735",
   "metadata": {},
   "outputs": [],
   "source": []
  }
 ],
 "metadata": {
  "kernelspec": {
   "display_name": "Python 3 (ipykernel)",
   "language": "python",
   "name": "python3"
  },
  "language_info": {
   "codemirror_mode": {
    "name": "ipython",
    "version": 3
   },
   "file_extension": ".py",
   "mimetype": "text/x-python",
   "name": "python",
   "nbconvert_exporter": "python",
   "pygments_lexer": "ipython3",
   "version": "3.10.8"
  }
 },
 "nbformat": 4,
 "nbformat_minor": 5
}
